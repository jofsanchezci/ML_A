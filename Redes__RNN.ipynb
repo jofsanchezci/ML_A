{
  "nbformat": 4,
  "nbformat_minor": 0,
  "metadata": {
    "colab": {
      "provenance": []
    },
    "kernelspec": {
      "display_name": "Python 3",
      "language": "python",
      "name": "python3"
    },
    "language_info": {
      "codemirror_mode": {
        "name": "ipython",
        "version": 3
      },
      "file_extension": ".py",
      "mimetype": "text/x-python",
      "name": "python",
      "nbconvert_exporter": "python",
      "pygments_lexer": "ipython3",
      "version": "3.7.6"
    }
  },
  "cells": [
    {
      "cell_type": "markdown",
      "metadata": {
        "id": "9mLbrUZviFy8"
      },
      "source": [
        "#Construcción de un modelo de clasificación empleando redes neuronales\n",
        "\n",
        "\n"
      ]
    },
    {
      "cell_type": "code",
      "metadata": {
        "id": "H5lk0elTiFy_"
      },
      "source": [
        "#Funciones para la visualización\n",
        "#Importación de librerias\n",
        "%matplotlib inline\n",
        "import numpy as np\n",
        "import pandas as pd\n",
        "import pylab as pl\n",
        "from matplotlib import pyplot as plt\n",
        "\n",
        "# Función para visualizar un conjunto de datos en 2D\n",
        "def plot_data(X, y, size=None):\n",
        "    y_unique = np.unique(y)\n",
        "    colors = pl.cm.rainbow(np.linspace(0.0, 1.0, y_unique.size))\n",
        "    for this_y, color in zip(y_unique, colors):\n",
        "        this_X = X[y == this_y]\n",
        "        pl.scatter(this_X[:, 0], this_X[:, 1],  c=color,\n",
        "                    alpha=0.5, edgecolor='k', s=size,\n",
        "                    label=\"Clase %s\" % this_y)\n",
        "    pl.legend(loc=\"best\")\n",
        "    pl.title(\"Datos\")\n",
        "\n",
        "# Función para visualizar de la superficie de decisión de un clasificador\n",
        "def plot_decision_region(X, pred_fun):\n",
        "    min_x = np.min(X[:, 0])\n",
        "    max_x = np.max(X[:, 0])\n",
        "    min_y = np.min(X[:, 1])\n",
        "    max_y = np.max(X[:, 1])\n",
        "    min_x = min_x - (max_x - min_x) * 0.05\n",
        "    max_x = max_x + (max_x - min_x) * 0.05\n",
        "    min_y = min_y - (max_y - min_y) * 0.05\n",
        "    max_y = max_y + (max_y - min_y) * 0.05\n",
        "    x_vals = np.linspace(min_x, max_x, 100)\n",
        "    y_vals = np.linspace(min_y, max_y, 100)\n",
        "    XX, YY = np.meshgrid(x_vals, y_vals)\n",
        "    grid_r, grid_c = XX.shape\n",
        "    ZZ = np.zeros((grid_r, grid_c))\n",
        "    for i in range(grid_r):\n",
        "        for j in range(grid_c):\n",
        "            ZZ[i, j] = pred_fun(XX[i, j], YY[i, j])\n",
        "    pl.contourf(XX, YY, ZZ, 100, cmap = pl.cm.coolwarm, vmin= -1, vmax=2)\n",
        "    pl.colorbar()\n",
        "    pl.xlabel(\"x\")\n",
        "    pl.ylabel(\"y\")\n",
        "\n",
        "def gen_pred_fun(clf):\n",
        "    def pred_fun(x1, x2):\n",
        "        x = np.array([[x1, x2]])\n",
        "        return clf.predict(x)[0]\n",
        "    return pred_fun\n",
        "\n"
      ],
      "execution_count": 2,
      "outputs": []
    },
    {
      "cell_type": "markdown",
      "metadata": {
        "id": "skqo3L9liFzB"
      },
      "source": [
        "## Neurona artificial\n",
        "\n",
        "<img src=\"http://upload.wikimedia.org/wikipedia/commons/thumb/6/60/ArtificialNeuronModel_english.png/600px-ArtificialNeuronModel_english.png\" >\n",
        "\n",
        "* El perceptrón es un algoritmo de clasificación que genera una predicción para una entrada $(x)$ de la siguiente manera:\n",
        "$$\\textrm{Predicción}(x)=\\begin{cases}\n",
        "C_{1} & \\mbox{si }f(x)\\ge \\theta\\\\\n",
        "C_{2} & \\mbox{si }f(x)<\\theta\n",
        "\\end{cases}$$\n",
        "\n",
        "* De igual forma, $f(x)$ está definida como una suma ponderada sobre los elementos de la entrada:\n",
        "$$\n",
        "f(x) =  \\sum_{i=1}^{n} {w_i x_i}\n",
        "$$\n",
        "dónde $x$ corresponde a la entrada, $w$ corresponde a los pesos que se multiplican por la entrada $x$ y $w_0$ al sesgo.\n",
        "\n",
        "* Para poder generar $\\textrm{Predicción}(x)$, se toma la salida de $f(x)$ y se le aplica una **función de activación** $\\varphi$. Así la salida del perceptrón es de la siguiente forma:\n",
        "$$\n",
        "y = \\varphi( \\sum_{i=1}^{n} {w_i x_i})\n",
        "$$\n",
        "\n",
        "* Es común encontrar en la literatura que se mencione que una neurona se activó, si su valor de la salida $y$ superó el umbral $\\theta$ definido para la neurona.\n",
        "\n",
        "**¿Cómo escoger $\\varphi$?**"
      ]
    },
    {
      "cell_type": "markdown",
      "metadata": {
        "id": "7JITQfoZiFzC"
      },
      "source": [
        "## Función de activación de paso\n",
        "\n",
        "El caso más sencillo se conoce como la función de activación de paso. La función de activación de paso se define de la siguiente manera:\n",
        "\n",
        "$$\\phi(x)=\\begin{cases}\n",
        "0 & \\mbox{si }x\\leq \\theta\\\\\n",
        "1 & \\mbox{si }x>\\theta\n",
        "\\end{cases}$$\n",
        "\n",
        "La cual observamos a continuación\n",
        "\n",
        "<img src=\"https://drive.google.com/uc?export=view&id=1keTYepWcLZqtHFMXP6ix2FnIFcqrwHAN\" align=\"middle\">"
      ]
    },
    {
      "cell_type": "markdown",
      "metadata": {
        "id": "aA3sce_9iFzE"
      },
      "source": [
        "## Función de activación logística\n",
        "\n",
        "La función de activación logística está basada en la función sigmoide $\\sigma$. La función sigmoíde para cualquier valor $z$ se define de la siguiente manera:\n",
        "\n",
        "$$\\sigma(z) = \\frac{1}{1 + e^{-z}}$$\n",
        "\n",
        "<img width= 300 src=\"http://upload.wikimedia.org/wikipedia/commons/thumb/b/b5/SigmoidFunction.png/400px-SigmoidFunction.png\" align=\"middle\">\n",
        "\n",
        "Cómo se puede observar en la imagen, la función sigmoide genera valores entre $0$ y $1$. A diferencia de la función de activación de paso, la sigmoide genera una transición entre $0$ y $1$. La salida del perceptrón queda definida de la siguiente manera:\n",
        "\n",
        "$$\n",
        "y = \\sigma(\\theta + \\sum_{i=1}^{n} {w_i x_i})\n",
        "$$"
      ]
    },
    {
      "cell_type": "code",
      "source": [
        "from math import exp\n",
        "#Calculo del valor de sigma\n",
        "#sigma=1/1-exp(-x)\n",
        "def sigma(n):\n",
        "  return 1/(1+exp(-n))\n",
        "\n",
        "print(sigma(0))"
      ],
      "metadata": {
        "colab": {
          "base_uri": "https://localhost:8080/"
        },
        "id": "Yl7anTliDZAm",
        "outputId": "548a79a1-faec-4d3a-9804-4a3423bfbde6"
      },
      "execution_count": 1,
      "outputs": [
        {
          "output_type": "stream",
          "name": "stdout",
          "text": [
            "0.5\n"
          ]
        }
      ]
    },
    {
      "cell_type": "markdown",
      "metadata": {
        "id": "VgVKlNzaiFzE"
      },
      "source": [
        "## Implementación del perceptrón en Scikit-Learn\n",
        "\n",
        "Un perceptron es una red neuronal sin capas intermedias, es decir solo un capa de salida, las neuronas en la capa de salida usan la función de activación de paso. Usando `sklearn.linear_model.Perceptron` podemos encontrar la implementación del perceptrón. El entrenamiento del modelo se hace usando gradiente descendente."
      ]
    },
    {
      "cell_type": "code",
      "metadata": {
        "id": "YLUfiFLRiFzE",
        "colab": {
          "base_uri": "https://localhost:8080/"
        },
        "outputId": "16055553-3ec8-4504-e76c-10c94eaebf9f"
      },
      "source": [
        "from sklearn.linear_model import Perceptron\n",
        "\n",
        "clf = Perceptron()\n",
        "print(clf)"
      ],
      "execution_count": 3,
      "outputs": [
        {
          "output_type": "stream",
          "name": "stdout",
          "text": [
            "Perceptron()\n"
          ]
        }
      ]
    },
    {
      "cell_type": "markdown",
      "metadata": {
        "id": "Z0XWnTHziFzG"
      },
      "source": [
        "### ¿Cómo programar una neurona para calcular la función `AND`?\n",
        "\n",
        "| $$X$$ | $$ Y $$ | $$ X\\&Y $$ |\n",
        "| - | - | - |\n",
        "| 0 | 0 | 0 |\n",
        "| 0 | 1 | 0 |\n",
        "| 1 | 0 | 0 |\n",
        "| 1 | 1 | 1 |\n",
        "\n",
        "### AND Neural Network\n",
        "\n",
        "<img src=\"https://i.imgur.com/u2DeapF.png\" align=\"middle\">"
      ]
    },
    {
      "cell_type": "markdown",
      "metadata": {
        "id": "A2ogsVPfFKPe"
      },
      "source": [
        "Para *programar* manualmente el perceptron, vamos a fijar sus parámetros con las siguientes instrucciones:"
      ]
    },
    {
      "cell_type": "code",
      "metadata": {
        "colab": {
          "base_uri": "https://localhost:8080/"
        },
        "id": "ib7Ra-YZiFzH",
        "outputId": "5a8fde0c-274f-4e16-d9c5-aaa5059c3e46"
      },
      "source": [
        "clf.coef_ = np.array([[0.7, -0.3]])\n",
        "clf.intercept_ = np.array([1])\n",
        "clf.classes_ = np.array([0, 1])\n",
        "print(\"Done!!!\")"
      ],
      "execution_count": 4,
      "outputs": [
        {
          "output_type": "stream",
          "name": "stdout",
          "text": [
            "Done!!!\n"
          ]
        }
      ]
    },
    {
      "cell_type": "markdown",
      "metadata": {
        "id": "52765vv1Fcf6"
      },
      "source": [
        "Ahora vamos a aplicarla a datos de entrada:"
      ]
    },
    {
      "cell_type": "code",
      "metadata": {
        "colab": {
          "base_uri": "https://localhost:8080/"
        },
        "id": "EprAKNtQFh9I",
        "outputId": "40697ae3-bdc4-449c-84bc-032fa1728dd1"
      },
      "source": [
        "X = np.array([[0., 0.], [0., 1.], [1., 0.], [1., 1.]])\n",
        "y = [0, 0, 0, 1]\n",
        "\n",
        "print('Predicciones: {}'.format(clf.predict(X)))\n",
        "print('Accuracy: {}'.format(clf.score(X, y)))\n",
        "print(\"Done!!!\")"
      ],
      "execution_count": 5,
      "outputs": [
        {
          "output_type": "stream",
          "name": "stdout",
          "text": [
            "Predicciones: [1 1 1 1]\n",
            "Accuracy: 0.25\n",
            "Done!!!\n"
          ]
        }
      ]
    },
    {
      "cell_type": "markdown",
      "metadata": {
        "id": "cFru-tyliFzL"
      },
      "source": [
        "Generalmente las redes neuronales no se programan manualmente, sino que se aplicar un algoritmo de aprendizaje o entrenamiento. Esto se lleva a cabo en con la función `fit()`. Esta función recibe un arreglo de tamaño [n_muestras, n_características]. `n_características` define el número de conexiones de entrada del perceptrón. A la salida del perceptrón, se le aplica la función de activación de paso.\n",
        "\n",
        "`Perceptron` nos permite obtener los valores de los pesos $w_1$ y $w_2$, y el sesgo $w_0$"
      ]
    },
    {
      "cell_type": "code",
      "metadata": {
        "colab": {
          "base_uri": "https://localhost:8080/"
        },
        "id": "l1Uo02jFiFzL",
        "outputId": "843206c3-372f-4131-da35-681eacd24b0c"
      },
      "source": [
        "#Se entrena el perceptron\n",
        "clf.fit(X, y)\n",
        "\n",
        "print('w_1 y w_2: {}'.format(clf.coef_))\n",
        "print('w_0: {}'.format(clf.intercept_))"
      ],
      "execution_count": 6,
      "outputs": [
        {
          "output_type": "stream",
          "name": "stdout",
          "text": [
            "w_1 y w_2: [[2. 2.]]\n",
            "w_0: [-2.]\n"
          ]
        }
      ]
    },
    {
      "cell_type": "markdown",
      "metadata": {
        "id": "MvciRtpUiFzP"
      },
      "source": [
        "Revisamos las predicciones para nuestro conjunto de datos:"
      ]
    },
    {
      "cell_type": "code",
      "metadata": {
        "colab": {
          "base_uri": "https://localhost:8080/"
        },
        "id": "8lV2o1dDiFzP",
        "outputId": "611bc394-c2e6-44c9-c3b9-7f980cdb2625"
      },
      "source": [
        "print('Predicciones: {}'.format(clf.predict(X)))\n",
        "print('Accuracy: {}'.format(clf.score(X, y)))"
      ],
      "execution_count": 7,
      "outputs": [
        {
          "output_type": "stream",
          "name": "stdout",
          "text": [
            "Predicciones: [0 0 0 1]\n",
            "Accuracy: 1.0\n"
          ]
        }
      ]
    },
    {
      "cell_type": "markdown",
      "metadata": {
        "id": "HBtOj43eFKQT"
      },
      "source": [
        "Visualizamos la región de decisión."
      ]
    },
    {
      "cell_type": "code",
      "metadata": {
        "id": "09HaBiYViFzS",
        "colab": {
          "base_uri": "https://localhost:8080/",
          "height": 620
        },
        "outputId": "e4a9cd02-b63c-4e40-b8df-64c683e60544"
      },
      "source": [
        "pl.figure(figsize = (10, 6))\n",
        "plot_decision_region(X, gen_pred_fun(clf))\n",
        "plot_data(X, y, size=100)\n",
        "pl.show()"
      ],
      "execution_count": 8,
      "outputs": [
        {
          "output_type": "stream",
          "name": "stderr",
          "text": [
            "<ipython-input-2-c65973cf6748>:15: UserWarning: *c* argument looks like a single numeric RGB or RGBA sequence, which should be avoided as value-mapping will have precedence in case its length matches with *x* & *y*.  Please use the *color* keyword-argument or provide a 2D array with a single row if you intend to specify the same RGB or RGBA value for all points.\n",
            "  pl.scatter(this_X[:, 0], this_X[:, 1],  c=color,\n"
          ]
        },
        {
          "output_type": "display_data",
          "data": {
            "text/plain": [
              "<Figure size 1000x600 with 2 Axes>"
            ],
            "image/png": "[encoded data removed]"
          },
          "metadata": {}
        }
      ]
    },
    {
      "cell_type": "markdown",
      "metadata": {
        "id": "A-gTpQt9iFzU"
      },
      "source": [
        "### ¿Cómo programar una neurona para calcular la función XOR?\n",
        "\n",
        "| $$X$$ | $$ Y $$ | $$ X\\oplus Y $$ |\n",
        "| - | - | - |\n",
        "| 0 | 0 | 0 |\n",
        "| 0 | 1 | 1 |\n",
        "| 1 | 0 | 1 |\n",
        "| 1 | 1 | 0 |"
      ]
    },
    {
      "cell_type": "code",
      "metadata": {
        "id": "kv-BIMXBiFzW"
      },
      "source": [
        "X = np.array([[0., 0.], [0., 1.], [1., 0.], [1., 1.]])\n",
        "y = [0, 1, 1, 0]\n",
        "\n",
        "pl.figure(figsize = (10, 6))\n",
        "plot_data(X, y, size=100)"
      ],
      "execution_count": null,
      "outputs": []
    },
    {
      "cell_type": "code",
      "metadata": {
        "id": "VK36ABJCiFzY",
        "colab": {
          "base_uri": "https://localhost:8080/",
          "height": 74
        },
        "outputId": "6c34b783-5d79-49d6-ffdd-a92bb6323f92"
      },
      "source": [
        "clf = Perceptron()\n",
        "clf.fit(X, y)"
      ],
      "execution_count": 11,
      "outputs": [
        {
          "output_type": "execute_result",
          "data": {
            "text/plain": [
              "Perceptron()"
            ],
            "text/html": [
              "<style>#sk-container-id-2 {color: black;background-color: white;}#sk-container-id-2 pre{padding: 0;}#sk-container-id-2 div.sk-toggleable {background-color: white;}#sk-container-id-2 label.sk-toggleable__label {cursor: pointer;display: block;width: 100%;margin-bottom: 0;padding: 0.3em;box-sizing: border-box;text-align: center;}#sk-container-id-2 label.sk-toggleable__label-arrow:before {content: \"▸\";float: left;margin-right: 0.25em;color: #696969;}#sk-container-id-2 label.sk-toggleable__label-arrow:hover:before {color: black;}#sk-container-id-2 div.sk-estimator:hover label.sk-toggleable__label-arrow:before {color: black;}#sk-container-id-2 div.sk-toggleable__content {max-height: 0;max-width: 0;overflow: hidden;text-align: left;background-color: #f0f8ff;}#sk-container-id-2 div.sk-toggleable__content pre {margin: 0.2em;color: black;border-radius: 0.25em;background-color: #f0f8ff;}#sk-container-id-2 input.sk-toggleable__control:checked~div.sk-toggleable__content {max-height: 200px;max-width: 100%;overflow: auto;}#sk-container-id-2 input.sk-toggleable__control:checked~label.sk-toggleable__label-arrow:before {content: \"▾\";}#sk-container-id-2 div.sk-estimator input.sk-toggleable__control:checked~label.sk-toggleable__label {background-color: #d4ebff;}#sk-container-id-2 div.sk-label input.sk-toggleable__control:checked~label.sk-toggleable__label {background-color: #d4ebff;}#sk-container-id-2 input.sk-hidden--visually {border: 0;clip: rect(1px 1px 1px 1px);clip: rect(1px, 1px, 1px, 1px);height: 1px;margin: -1px;overflow: hidden;padding: 0;position: absolute;width: 1px;}#sk-container-id-2 div.sk-estimator {font-family: monospace;background-color: #f0f8ff;border: 1px dotted black;border-radius: 0.25em;box-sizing: border-box;margin-bottom: 0.5em;}#sk-container-id-2 div.sk-estimator:hover {background-color: #d4ebff;}#sk-container-id-2 div.sk-parallel-item::after {content: \"\";width: 100%;border-bottom: 1px solid gray;flex-grow: 1;}#sk-container-id-2 div.sk-label:hover label.sk-toggleable__label {background-color: #d4ebff;}#sk-container-id-2 div.sk-serial::before {content: \"\";position: absolute;border-left: 1px solid gray;box-sizing: border-box;top: 0;bottom: 0;left: 50%;z-index: 0;}#sk-container-id-2 div.sk-serial {display: flex;flex-direction: column;align-items: center;background-color: white;padding-right: 0.2em;padding-left: 0.2em;position: relative;}#sk-container-id-2 div.sk-item {position: relative;z-index: 1;}#sk-container-id-2 div.sk-parallel {display: flex;align-items: stretch;justify-content: center;background-color: white;position: relative;}#sk-container-id-2 div.sk-item::before, #sk-container-id-2 div.sk-parallel-item::before {content: \"\";position: absolute;border-left: 1px solid gray;box-sizing: border-box;top: 0;bottom: 0;left: 50%;z-index: -1;}#sk-container-id-2 div.sk-parallel-item {display: flex;flex-direction: column;z-index: 1;position: relative;background-color: white;}#sk-container-id-2 div.sk-parallel-item:first-child::after {align-self: flex-end;width: 50%;}#sk-container-id-2 div.sk-parallel-item:last-child::after {align-self: flex-start;width: 50%;}#sk-container-id-2 div.sk-parallel-item:only-child::after {width: 0;}#sk-container-id-2 div.sk-dashed-wrapped {border: 1px dashed gray;margin: 0 0.4em 0.5em 0.4em;box-sizing: border-box;padding-bottom: 0.4em;background-color: white;}#sk-container-id-2 div.sk-label label {font-family: monospace;font-weight: bold;display: inline-block;line-height: 1.2em;}#sk-container-id-2 div.sk-label-container {text-align: center;}#sk-container-id-2 div.sk-container {/* jupyter's `normalize.less` sets `[hidden] { display: none; }` but bootstrap.min.css set `[hidden] { display: none !important; }` so we also need the `!important` here to be able to override the default hidden behavior on the sphinx rendered scikit-learn.org. See: https://github.com/scikit-learn/scikit-learn/issues/21755 */display: inline-block !important;position: relative;}#sk-container-id-2 div.sk-text-repr-fallback {display: none;}</style><div id=\"sk-container-id-2\" class=\"sk-top-container\"><div class=\"sk-text-repr-fallback\"><pre>Perceptron()</pre><b>In a Jupyter environment, please rerun this cell to show the HTML representation or trust the notebook. <br />On GitHub, the HTML representation is unable to render, please try loading this page with nbviewer.org.</b></div><div class=\"sk-container\" hidden><div class=\"sk-item\"><div class=\"sk-estimator sk-toggleable\"><input class=\"sk-toggleable__control sk-hidden--visually\" id=\"sk-estimator-id-2\" type=\"checkbox\" checked><label for=\"sk-estimator-id-2\" class=\"sk-toggleable__label sk-toggleable__label-arrow\">Perceptron</label><div class=\"sk-toggleable__content\"><pre>Perceptron()</pre></div></div></div></div></div>"
            ]
          },
          "metadata": {},
          "execution_count": 11
        }
      ]
    },
    {
      "cell_type": "markdown",
      "metadata": {
        "id": "vIDzDaVhiFza"
      },
      "source": [
        "Observamos las predicciones y la superficie de decisión:"
      ]
    },
    {
      "cell_type": "code",
      "metadata": {
        "id": "hPW3Q_zPiFzb",
        "colab": {
          "base_uri": "https://localhost:8080/"
        },
        "outputId": "4cd70727-b4aa-4e29-cbc2-dbb78392f139"
      },
      "source": [
        "print('Valor original: {}'.format(y))\n",
        "print('Valor predicho: {}'.format(clf.predict(X)))\n",
        "print('Accuracy: {}'.format(clf.score(X, y)))"
      ],
      "execution_count": 12,
      "outputs": [
        {
          "output_type": "stream",
          "name": "stdout",
          "text": [
            "Valor original: [0, 1, 1, 0]\n",
            "Valor predicho: [0 0 0 0]\n",
            "Accuracy: 0.5\n"
          ]
        }
      ]
    },
    {
      "cell_type": "code",
      "metadata": {
        "colab": {
          "base_uri": "https://localhost:8080/",
          "height": 620
        },
        "id": "kyCQ9FVFFKRN",
        "outputId": "d9d6e402-746f-4e2e-ee80-be40aa234ed6"
      },
      "source": [
        "pl.figure(figsize = (10, 6))\n",
        "plot_decision_region(X, gen_pred_fun(clf))\n",
        "plot_data(X, y, size=100)"
      ],
      "execution_count": 13,
      "outputs": [
        {
          "output_type": "stream",
          "name": "stderr",
          "text": [
            "<ipython-input-2-c65973cf6748>:15: UserWarning: *c* argument looks like a single numeric RGB or RGBA sequence, which should be avoided as value-mapping will have precedence in case its length matches with *x* & *y*.  Please use the *color* keyword-argument or provide a 2D array with a single row if you intend to specify the same RGB or RGBA value for all points.\n",
            "  pl.scatter(this_X[:, 0], this_X[:, 1],  c=color,\n"
          ]
        },
        {
          "output_type": "display_data",
          "data": {
            "text/plain": [
              "<Figure size 1000x600 with 2 Axes>"
            ],
            "image/png": "[encoded data removed]"
          },
          "metadata": {}
        }
      ]
    },
    {
      "cell_type": "markdown",
      "metadata": {
        "id": "nVBpINJoiFzf"
      },
      "source": [
        "**Problemas**\n",
        "* Es imposible encontrar un modelo lineal que separe los puntos de ambas clases en el problema XOR. Una solución es usar dos neuronas."
      ]
    },
    {
      "cell_type": "markdown",
      "metadata": {
        "id": "CoHmV4qSiFzf"
      },
      "source": [
        "# Perceptron multicapa\n",
        "El perceptron multicapa (Multilayer Perceptron, MLP en inglés) es un tipo especial de red neuronal en el cual se apilan varias capas de perceptrones. En inglés tambien se le denomina como **Feedforward neural network**. El perceptrón multicapa está motivado por la poca capacidad del perceptrón sencillo de modelar funciones no lineales. En un MLP agrupamos tantas capas como necesitemos. A continuación, presentamos una red multicapa que cuenta con:\n",
        "\n",
        "* Capa de entrada: Recibe los datos de entrada.\n",
        "* Capa oculta: Cuenta con uno o más neuronas.\n",
        "* Capa de activación: Aplica una función de activación sobre la salida de cada neurona de la capa oculta.\n",
        "* Cada de salida: Produce la predicción para completar la tarea supervisada. Puede ser de clasificación o *regresión*.\n",
        "\n",
        "<img src=\"https://drive.google.com/uc?export=view&id=1LBqLV7G18rQ8SOJjayMQzBLwA3F-d7hN\" align=\"middle\">"
      ]
    },
    {
      "cell_type": "markdown",
      "metadata": {
        "id": "x1Cml8udiFzh"
      },
      "source": [
        "## ¿Cómo resolver el problema de la función XOR?\n",
        "\n",
        "Scikit-Learn nos permite trabajar con redes multicapa usando `sklearn.neural_network.MLPClassifier`. Una red multicapa se puede entrenar usando **gradiente descendente**, por lo tanto se pueden usanr métodos como **gradiente descendente estocástico** u otros métodos de optimización. El valor del gradiente determina qué tanto debo modificar los pesos de mi red (parámetros entrenables) para resolver la tarea de predicción.\n",
        "\n",
        "A continuación vamos a definir la siguiente arquitectura para resolver el problema de la función XOR.\n",
        "\n",
        "<img src=\"https://drive.google.com/uc?export=view&id=1ZmzYAPqV7eOe8o8yh6zNY2LfuI3qoOTF\">\n",
        "\n",
        "`MLPClassifier` permite definir esta arquitectura de la siguiente manera:\n",
        "\n",
        "* **Capa de entrada**: El tamaño de la capa de entrada es definido cuando se llama a la función `fit()`. El tamaño está definido por el número de características (o columnas) de la matriz de características `X`.\n",
        "* **Capa(s) ocultas**: El número de capas ocultas y el tamaño de cada una es definido por el parámetro `hidden_layer_size` de la clase `MLPClassifier`. Este parámetro consiste en una tupla de $n$ elementos, donde $n$ es igual al número de capas ocultas. Cada elemento de la tupla determina el número de neuronas de esa capa oculta.\n",
        "* **Función de activación**: Esta función se define usando el parámetro `activation` de `MLPClassifier`. Este parámetro puede ser `logistic`, `relu`, `tanh` o `identity`.\n",
        "* **Capa de salida**: Se define cuando se llama a la función `fit()`. La capa de salida contiene una única neurona, cuya función de activación se define con base al tipo de tarea de clasificación. Si es una tarea de clasificación binaria usa una función de activación logística. Si la tarea es multiclase se usa una función de activación SoftMax.\n",
        "\n",
        "Adicionalmente `MLPClassifier` recibe los siguientes parámetros:\n",
        "\n",
        "* `solver`: Puede ser '*lbfgs*', '*sgd*' o '*adam*'. '*lbfgs*' es una técnica de optimización muy útil para conjuntos pequeños. Mientras que '*sgd*' y '*adam*' usan gradiente descendente estocástico y son apropiados para conjunto de datos grandes.\n",
        "* `alpha`: $\\alpha$ controla el parámetro de regularización. $\\alpha$ permite penalizar aquellos pesos $w$ grandes."
      ]
    },
    {
      "cell_type": "code",
      "source": [
        "#Graficas de funciones de activacion tanh y relu\n",
        "rangox=np.arange(-5,5,0.1)\n",
        "tanh_=(1-np.exp(-2*rangox))/(1+np.exp(-2*rangox))\n",
        "plt.plot(rangox,tanh_,'-b')\n",
        "plt.title('Función de activación TanH')\n",
        "plt.xlabel('Rango')\n",
        "plt.ylabel('Función')\n",
        "plt.grid()\n",
        "plt.show()\n"
      ],
      "metadata": {
        "colab": {
          "base_uri": "https://localhost:8080/",
          "height": 472
        },
        "id": "c62vZ8HBEQ7H",
        "outputId": "a5e563dc-3b16-41f6-a19b-7728d11e63d1"
      },
      "execution_count": 19,
      "outputs": [
        {
          "output_type": "display_data",
          "data": {
            "text/plain": [
              "<Figure size 640x480 with 1 Axes>"
            ],
            "image/png": "[encoded data removed]"
          },
          "metadata": {}
        }
      ]
    },
    {
      "cell_type": "code",
      "source": [
        "#Graficas de funciones de activacion tanh y relu\n",
        "#Función relu\n",
        "relu=[]\n",
        "for i in range(len(rangox)):\n",
        "  if rangox[i]<=0:\n",
        "    relu.append(0)\n",
        "  else:\n",
        "    relu.append(rangox[i])\n",
        "\n",
        "plt.plot(rangox,relu,'--r')\n",
        "plt.title('Función de activación Relu')\n",
        "plt.xlabel('Rango')\n",
        "plt.ylabel('Función')\n",
        "plt.grid()\n",
        "plt.show()"
      ],
      "metadata": {
        "colab": {
          "base_uri": "https://localhost:8080/",
          "height": 472
        },
        "id": "PdbM2IhiFv3H",
        "outputId": "c044af4c-babe-4d3d-ec57-6ff2e2779fcd"
      },
      "execution_count": 18,
      "outputs": [
        {
          "output_type": "display_data",
          "data": {
            "text/plain": [
              "<Figure size 640x480 with 1 Axes>"
            ],
            "image/png": "[encoded data removed]"
          },
          "metadata": {}
        }
      ]
    },
    {
      "cell_type": "code",
      "metadata": {
        "colab": {
          "base_uri": "https://localhost:8080/",
          "height": 92
        },
        "id": "onh2KV6EiFzi",
        "outputId": "48ba35e5-4af6-4c74-89f5-1f64b266e0c3"
      },
      "source": [
        "from sklearn.neural_network import MLPClassifier\n",
        "\n",
        "X = np.array([[0., 0.], [0., 1.], [1., 0.], [1., 1.]])\n",
        "y = [0, 1, 1, 0]\n",
        "\n",
        "clf = MLPClassifier(solver='lbfgs', alpha=1e-5, activation='logistic',\n",
        "                    hidden_layer_sizes=2, random_state = 3)\n",
        "clf.fit(X, y)"
      ],
      "execution_count": 20,
      "outputs": [
        {
          "output_type": "execute_result",
          "data": {
            "text/plain": [
              "MLPClassifier(activation='logistic', alpha=1e-05, hidden_layer_sizes=2,\n",
              "              random_state=3, solver='lbfgs')"
            ],
            "text/html": [
              "<style>#sk-container-id-3 {color: black;background-color: white;}#sk-container-id-3 pre{padding: 0;}#sk-container-id-3 div.sk-toggleable {background-color: white;}#sk-container-id-3 label.sk-toggleable__label {cursor: pointer;display: block;width: 100%;margin-bottom: 0;padding: 0.3em;box-sizing: border-box;text-align: center;}#sk-container-id-3 label.sk-toggleable__label-arrow:before {content: \"▸\";float: left;margin-right: 0.25em;color: #696969;}#sk-container-id-3 label.sk-toggleable__label-arrow:hover:before {color: black;}#sk-container-id-3 div.sk-estimator:hover label.sk-toggleable__label-arrow:before {color: black;}#sk-container-id-3 div.sk-toggleable__content {max-height: 0;max-width: 0;overflow: hidden;text-align: left;background-color: #f0f8ff;}#sk-container-id-3 div.sk-toggleable__content pre {margin: 0.2em;color: black;border-radius: 0.25em;background-color: #f0f8ff;}#sk-container-id-3 input.sk-toggleable__control:checked~div.sk-toggleable__content {max-height: 200px;max-width: 100%;overflow: auto;}#sk-container-id-3 input.sk-toggleable__control:checked~label.sk-toggleable__label-arrow:before {content: \"▾\";}#sk-container-id-3 div.sk-estimator input.sk-toggleable__control:checked~label.sk-toggleable__label {background-color: #d4ebff;}#sk-container-id-3 div.sk-label input.sk-toggleable__control:checked~label.sk-toggleable__label {background-color: #d4ebff;}#sk-container-id-3 input.sk-hidden--visually {border: 0;clip: rect(1px 1px 1px 1px);clip: rect(1px, 1px, 1px, 1px);height: 1px;margin: -1px;overflow: hidden;padding: 0;position: absolute;width: 1px;}#sk-container-id-3 div.sk-estimator {font-family: monospace;background-color: #f0f8ff;border: 1px dotted black;border-radius: 0.25em;box-sizing: border-box;margin-bottom: 0.5em;}#sk-container-id-3 div.sk-estimator:hover {background-color: #d4ebff;}#sk-container-id-3 div.sk-parallel-item::after {content: \"\";width: 100%;border-bottom: 1px solid gray;flex-grow: 1;}#sk-container-id-3 div.sk-label:hover label.sk-toggleable__label {background-color: #d4ebff;}#sk-container-id-3 div.sk-serial::before {content: \"\";position: absolute;border-left: 1px solid gray;box-sizing: border-box;top: 0;bottom: 0;left: 50%;z-index: 0;}#sk-container-id-3 div.sk-serial {display: flex;flex-direction: column;align-items: center;background-color: white;padding-right: 0.2em;padding-left: 0.2em;position: relative;}#sk-container-id-3 div.sk-item {position: relative;z-index: 1;}#sk-container-id-3 div.sk-parallel {display: flex;align-items: stretch;justify-content: center;background-color: white;position: relative;}#sk-container-id-3 div.sk-item::before, #sk-container-id-3 div.sk-parallel-item::before {content: \"\";position: absolute;border-left: 1px solid gray;box-sizing: border-box;top: 0;bottom: 0;left: 50%;z-index: -1;}#sk-container-id-3 div.sk-parallel-item {display: flex;flex-direction: column;z-index: 1;position: relative;background-color: white;}#sk-container-id-3 div.sk-parallel-item:first-child::after {align-self: flex-end;width: 50%;}#sk-container-id-3 div.sk-parallel-item:last-child::after {align-self: flex-start;width: 50%;}#sk-container-id-3 div.sk-parallel-item:only-child::after {width: 0;}#sk-container-id-3 div.sk-dashed-wrapped {border: 1px dashed gray;margin: 0 0.4em 0.5em 0.4em;box-sizing: border-box;padding-bottom: 0.4em;background-color: white;}#sk-container-id-3 div.sk-label label {font-family: monospace;font-weight: bold;display: inline-block;line-height: 1.2em;}#sk-container-id-3 div.sk-label-container {text-align: center;}#sk-container-id-3 div.sk-container {/* jupyter's `normalize.less` sets `[hidden] { display: none; }` but bootstrap.min.css set `[hidden] { display: none !important; }` so we also need the `!important` here to be able to override the default hidden behavior on the sphinx rendered scikit-learn.org. See: https://github.com/scikit-learn/scikit-learn/issues/21755 */display: inline-block !important;position: relative;}#sk-container-id-3 div.sk-text-repr-fallback {display: none;}</style><div id=\"sk-container-id-3\" class=\"sk-top-container\"><div class=\"sk-text-repr-fallback\"><pre>MLPClassifier(activation=&#x27;logistic&#x27;, alpha=1e-05, hidden_layer_sizes=2,\n",
              "              random_state=3, solver=&#x27;lbfgs&#x27;)</pre><b>In a Jupyter environment, please rerun this cell to show the HTML representation or trust the notebook. <br />On GitHub, the HTML representation is unable to render, please try loading this page with nbviewer.org.</b></div><div class=\"sk-container\" hidden><div class=\"sk-item\"><div class=\"sk-estimator sk-toggleable\"><input class=\"sk-toggleable__control sk-hidden--visually\" id=\"sk-estimator-id-3\" type=\"checkbox\" checked><label for=\"sk-estimator-id-3\" class=\"sk-toggleable__label sk-toggleable__label-arrow\">MLPClassifier</label><div class=\"sk-toggleable__content\"><pre>MLPClassifier(activation=&#x27;logistic&#x27;, alpha=1e-05, hidden_layer_sizes=2,\n",
              "              random_state=3, solver=&#x27;lbfgs&#x27;)</pre></div></div></div></div></div>"
            ]
          },
          "metadata": {},
          "execution_count": 20
        }
      ]
    },
    {
      "cell_type": "markdown",
      "metadata": {
        "id": "zPbio9owFKR_"
      },
      "source": [
        "Evaluamos el desempeño del clasificador sobre el conjunto de datos:"
      ]
    },
    {
      "cell_type": "code",
      "metadata": {
        "colab": {
          "base_uri": "https://localhost:8080/"
        },
        "id": "FZ5vEOBEiFzm",
        "outputId": "d4b512a6-ed21-4d42-d2eb-9e2e9a18688b"
      },
      "source": [
        "#Se muestra es Score del modelo\n",
        "clf.score(X, y)"
      ],
      "execution_count": 21,
      "outputs": [
        {
          "output_type": "execute_result",
          "data": {
            "text/plain": [
              "1.0"
            ]
          },
          "metadata": {},
          "execution_count": 21
        }
      ]
    },
    {
      "cell_type": "code",
      "source": [
        "#Se muestran las predicciones\n",
        "clf.predict(X)"
      ],
      "metadata": {
        "colab": {
          "base_uri": "https://localhost:8080/"
        },
        "id": "skDwS8NEIOTL",
        "outputId": "0471e340-46ce-445e-faec-abcfd07295a5"
      },
      "execution_count": 23,
      "outputs": [
        {
          "output_type": "execute_result",
          "data": {
            "text/plain": [
              "array([0, 1, 1, 0])"
            ]
          },
          "metadata": {},
          "execution_count": 23
        }
      ]
    },
    {
      "cell_type": "markdown",
      "metadata": {
        "id": "NSxNg9HrFKSU"
      },
      "source": [
        "Visualizamos la superficie de decisión:"
      ]
    },
    {
      "cell_type": "code",
      "metadata": {
        "id": "x52AHSmUiFzq",
        "colab": {
          "base_uri": "https://localhost:8080/",
          "height": 620
        },
        "outputId": "22a7f396-63ae-49f7-9efb-1a100c044053"
      },
      "source": [
        "pl.figure(figsize = (10, 6))\n",
        "plot_decision_region(X, gen_pred_fun(clf))\n",
        "plot_data(X, y, size=100)"
      ],
      "execution_count": 24,
      "outputs": [
        {
          "output_type": "stream",
          "name": "stderr",
          "text": [
            "<ipython-input-2-c65973cf6748>:15: UserWarning: *c* argument looks like a single numeric RGB or RGBA sequence, which should be avoided as value-mapping will have precedence in case its length matches with *x* & *y*.  Please use the *color* keyword-argument or provide a 2D array with a single row if you intend to specify the same RGB or RGBA value for all points.\n",
            "  pl.scatter(this_X[:, 0], this_X[:, 1],  c=color,\n"
          ]
        },
        {
          "output_type": "display_data",
          "data": {
            "text/plain": [
              "<Figure size 1000x600 with 2 Axes>"
            ],
            "image/png": "[encoded data removed]"
          },
          "metadata": {}
        }
      ]
    },
    {
      "cell_type": "markdown",
      "metadata": {
        "id": "qdVL4SrpiFzt"
      },
      "source": [
        "`MLPClassifier` también nos permite acceder a la matriz de parámetros $w$ y a los sesgos $w_0$. `coefs_` nos regresa una lista que corresponde a los parámetros aprendidos. A continuación verificamos el tamaño de cada matriz y su respectivo valor."
      ]
    },
    {
      "cell_type": "code",
      "metadata": {
        "id": "w6ojSz-EiFzt",
        "colab": {
          "base_uri": "https://localhost:8080/"
        },
        "outputId": "7fec1f3a-8304-441c-8c2a-274e547cce34"
      },
      "source": [
        "print([a.shape for a in clf.coefs_])\n",
        "print(clf.coefs_)"
      ],
      "execution_count": 25,
      "outputs": [
        {
          "output_type": "stream",
          "name": "stdout",
          "text": [
            "[(2, 2), (2, 1)]\n",
            "[array([[  7.91851479, -14.41460809],\n",
            "       [ -6.39688935,   5.69721359]]), array([[-18.06349886],\n",
            "       [-18.40160725]])]\n"
          ]
        }
      ]
    },
    {
      "cell_type": "markdown",
      "metadata": {
        "id": "-FOv2tPOiFzw"
      },
      "source": [
        "Para acceder a los sesgos, se puede usar `.intercepts_`"
      ]
    },
    {
      "cell_type": "code",
      "metadata": {
        "id": "ewIYwSFciFzx",
        "colab": {
          "base_uri": "https://localhost:8080/"
        },
        "outputId": "eeb5d163-16a6-4417-bc3b-e5bdffca52e0"
      },
      "source": [
        "print([a.shape for a in clf.intercepts_])\n",
        "print(clf.intercepts_)"
      ],
      "execution_count": 26,
      "outputs": [
        {
          "output_type": "stream",
          "name": "stdout",
          "text": [
            "[(2,), (1,)]\n",
            "[array([ 3.4906442 , 11.38520041]), array([27.28398128])]\n"
          ]
        }
      ]
    },
    {
      "cell_type": "markdown",
      "metadata": {
        "id": "Oe6bOOYZiFzz"
      },
      "source": [
        "### **Ventajas**\n",
        "\n",
        "* A través de las capas ocultas, se pueden modelar relaciones de alto nivel entre las entradas. Por ejemplo, en el dominio de reconocimiento de objetos en imágenes, se puede aprender que el conjunto de dos ojos, una nariz y una boca forman una imagen.\n",
        "* Las funciones de activación al ser no lineales, le permiten al modelo aprender funciones de separación más elaboradas.\n",
        "\n",
        "### **Desventajas**\n",
        "* La complejidad del modelo puede aumentar rápidamiente con respecto al número de capas y de neuronas por capa. Contemple el caso de una red con las siguientes características:\n",
        "    * 1 capa de entrada de tamaño 50.\n",
        "    * 1 capa oculta de $256$ neuronas.\n",
        "    * 1 capa oculta de $512$ neuronas.\n",
        "    * 1 capa de clasificación binaria.\n",
        "* Bajo esta configuración tenemos que el número de parámetros está distribuido de la siguiente manera:\n",
        "    * Conexiones entre la capa de entrada y la primera capa oculta: $256*50\\ +\\ 256 = 13056$. Donde la segunda parte corresponde a los sesgos.\n",
        "    * Conexiones entre la primera capa oculta y la segunda capa oculta: $256*512\\ +\\ 512 = 131584$.\n",
        "    * Conexiones entre la segunda capa oculta y la capa de clasificación: $512\\ +\\ 1 = 513$.\n",
        "    * Para un total de $145153$ parámetros entrenables."
      ]
    },
    {
      "cell_type": "markdown",
      "metadata": {
        "id": "1OOHn5i4iFz0"
      },
      "source": [
        "### Recomendaciones prácticas:\n",
        "* Hacer un escalamiento de los datos de entrada. `MLPClassifier` es muy sensible a la escala de los datos de entrada.\n",
        "* Explorar el número de neuronas por capa y el parámetro $\\alpha$ usando `GridSearchCV`.\n",
        "* Usar '*lbfgs*' como `solver` para conjuntos de datos pequeños. Mientras que '*adam*' es más recomendado para conjuntos de datos grandes."
      ]
    },
    {
      "cell_type": "markdown",
      "metadata": {
        "id": "4pSyTD1dLZra"
      },
      "source": [
        "## Little Red Riding Hood (Caperucita Roja)\n",
        "\n",
        "`MLPClassifier` también puede manejar problemas de tipo multi-etiqueta. Considere el problema de caperucita roja, en el cual caperucita debe decidir qué acción llevar a cabo con base a la apariencia de la abuelita.\n",
        "\n",
        "<img src=\"https://drive.google.com/uc?export=view&id=1umuROVDsjn-5aIiAlwmCzC2Byt8I80nc\">\n",
        "\n",
        "Generemos el conjunto de datos:"
      ]
    },
    {
      "cell_type": "code",
      "metadata": {
        "id": "O-njPcuhLeRe",
        "colab": {
          "base_uri": "https://localhost:8080/"
        },
        "outputId": "2ea37c2d-ad3e-48c7-9a6d-c7e2d01f27c3"
      },
      "source": [
        "from sklearn.neural_network import MLPClassifier\n",
        "X = np.array([[1,1,0,0], [0,1,1,0], [0,0,0,1]])\n",
        "y = np.array([[1,0,0,0], [0,0,1,1], [0,1,1,0]])\n",
        "df = pd.DataFrame(X, columns=['Big Ears', 'Big Teeth', 'Handsome', 'Wrinkled'])\n",
        "print(df.join(pd.DataFrame(y, columns=['Scream', 'Hug', 'Food', 'Kiss'])))"
      ],
      "execution_count": 27,
      "outputs": [
        {
          "output_type": "stream",
          "name": "stdout",
          "text": [
            "   Big Ears  Big Teeth  Handsome  Wrinkled  Scream  Hug  Food  Kiss\n",
            "0         1          1         0         0       1    0     0     0\n",
            "1         0          1         1         0       0    0     1     1\n",
            "2         0          0         0         1       0    1     1     0\n"
          ]
        }
      ]
    },
    {
      "cell_type": "markdown",
      "metadata": {
        "id": "C9vWveokLguf"
      },
      "source": [
        "Usamos los siguientes parámetros:\n",
        "* `solver`: *adam*\n",
        "* `max_iter`: *5000*"
      ]
    },
    {
      "cell_type": "markdown",
      "metadata": {
        "id": "jJSx1ZbWLjwN"
      },
      "source": [
        "Definimos una red multicapa con una capa oculta de tamaño $3$."
      ]
    },
    {
      "cell_type": "code",
      "metadata": {
        "id": "_Z9x0HA3GmD0",
        "colab": {
          "base_uri": "https://localhost:8080/",
          "height": 92
        },
        "outputId": "93d5342f-7764-4a88-cc0f-3e7b689d8217"
      },
      "source": [
        "clf = MLPClassifier(solver='adam', alpha=1e-5, activation='logistic', max_iter=5000,\n",
        "                    hidden_layer_sizes=(3), random_state=1)\n",
        "clf.fit(X, y)"
      ],
      "execution_count": 28,
      "outputs": [
        {
          "output_type": "execute_result",
          "data": {
            "text/plain": [
              "MLPClassifier(activation='logistic', alpha=1e-05, hidden_layer_sizes=3,\n",
              "              max_iter=5000, random_state=1)"
            ],
            "text/html": [
              "<style>#sk-container-id-4 {color: black;background-color: white;}#sk-container-id-4 pre{padding: 0;}#sk-container-id-4 div.sk-toggleable {background-color: white;}#sk-container-id-4 label.sk-toggleable__label {cursor: pointer;display: block;width: 100%;margin-bottom: 0;padding: 0.3em;box-sizing: border-box;text-align: center;}#sk-container-id-4 label.sk-toggleable__label-arrow:before {content: \"▸\";float: left;margin-right: 0.25em;color: #696969;}#sk-container-id-4 label.sk-toggleable__label-arrow:hover:before {color: black;}#sk-container-id-4 div.sk-estimator:hover label.sk-toggleable__label-arrow:before {color: black;}#sk-container-id-4 div.sk-toggleable__content {max-height: 0;max-width: 0;overflow: hidden;text-align: left;background-color: #f0f8ff;}#sk-container-id-4 div.sk-toggleable__content pre {margin: 0.2em;color: black;border-radius: 0.25em;background-color: #f0f8ff;}#sk-container-id-4 input.sk-toggleable__control:checked~div.sk-toggleable__content {max-height: 200px;max-width: 100%;overflow: auto;}#sk-container-id-4 input.sk-toggleable__control:checked~label.sk-toggleable__label-arrow:before {content: \"▾\";}#sk-container-id-4 div.sk-estimator input.sk-toggleable__control:checked~label.sk-toggleable__label {background-color: #d4ebff;}#sk-container-id-4 div.sk-label input.sk-toggleable__control:checked~label.sk-toggleable__label {background-color: #d4ebff;}#sk-container-id-4 input.sk-hidden--visually {border: 0;clip: rect(1px 1px 1px 1px);clip: rect(1px, 1px, 1px, 1px);height: 1px;margin: -1px;overflow: hidden;padding: 0;position: absolute;width: 1px;}#sk-container-id-4 div.sk-estimator {font-family: monospace;background-color: #f0f8ff;border: 1px dotted black;border-radius: 0.25em;box-sizing: border-box;margin-bottom: 0.5em;}#sk-container-id-4 div.sk-estimator:hover {background-color: #d4ebff;}#sk-container-id-4 div.sk-parallel-item::after {content: \"\";width: 100%;border-bottom: 1px solid gray;flex-grow: 1;}#sk-container-id-4 div.sk-label:hover label.sk-toggleable__label {background-color: #d4ebff;}#sk-container-id-4 div.sk-serial::before {content: \"\";position: absolute;border-left: 1px solid gray;box-sizing: border-box;top: 0;bottom: 0;left: 50%;z-index: 0;}#sk-container-id-4 div.sk-serial {display: flex;flex-direction: column;align-items: center;background-color: white;padding-right: 0.2em;padding-left: 0.2em;position: relative;}#sk-container-id-4 div.sk-item {position: relative;z-index: 1;}#sk-container-id-4 div.sk-parallel {display: flex;align-items: stretch;justify-content: center;background-color: white;position: relative;}#sk-container-id-4 div.sk-item::before, #sk-container-id-4 div.sk-parallel-item::before {content: \"\";position: absolute;border-left: 1px solid gray;box-sizing: border-box;top: 0;bottom: 0;left: 50%;z-index: -1;}#sk-container-id-4 div.sk-parallel-item {display: flex;flex-direction: column;z-index: 1;position: relative;background-color: white;}#sk-container-id-4 div.sk-parallel-item:first-child::after {align-self: flex-end;width: 50%;}#sk-container-id-4 div.sk-parallel-item:last-child::after {align-self: flex-start;width: 50%;}#sk-container-id-4 div.sk-parallel-item:only-child::after {width: 0;}#sk-container-id-4 div.sk-dashed-wrapped {border: 1px dashed gray;margin: 0 0.4em 0.5em 0.4em;box-sizing: border-box;padding-bottom: 0.4em;background-color: white;}#sk-container-id-4 div.sk-label label {font-family: monospace;font-weight: bold;display: inline-block;line-height: 1.2em;}#sk-container-id-4 div.sk-label-container {text-align: center;}#sk-container-id-4 div.sk-container {/* jupyter's `normalize.less` sets `[hidden] { display: none; }` but bootstrap.min.css set `[hidden] { display: none !important; }` so we also need the `!important` here to be able to override the default hidden behavior on the sphinx rendered scikit-learn.org. See: https://github.com/scikit-learn/scikit-learn/issues/21755 */display: inline-block !important;position: relative;}#sk-container-id-4 div.sk-text-repr-fallback {display: none;}</style><div id=\"sk-container-id-4\" class=\"sk-top-container\"><div class=\"sk-text-repr-fallback\"><pre>MLPClassifier(activation=&#x27;logistic&#x27;, alpha=1e-05, hidden_layer_sizes=3,\n",
              "              max_iter=5000, random_state=1)</pre><b>In a Jupyter environment, please rerun this cell to show the HTML representation or trust the notebook. <br />On GitHub, the HTML representation is unable to render, please try loading this page with nbviewer.org.</b></div><div class=\"sk-container\" hidden><div class=\"sk-item\"><div class=\"sk-estimator sk-toggleable\"><input class=\"sk-toggleable__control sk-hidden--visually\" id=\"sk-estimator-id-4\" type=\"checkbox\" checked><label for=\"sk-estimator-id-4\" class=\"sk-toggleable__label sk-toggleable__label-arrow\">MLPClassifier</label><div class=\"sk-toggleable__content\"><pre>MLPClassifier(activation=&#x27;logistic&#x27;, alpha=1e-05, hidden_layer_sizes=3,\n",
              "              max_iter=5000, random_state=1)</pre></div></div></div></div></div>"
            ]
          },
          "metadata": {},
          "execution_count": 28
        }
      ]
    },
    {
      "cell_type": "markdown",
      "metadata": {
        "id": "wGSBA4JsLuZ0"
      },
      "source": [
        "Scikit-Learn nos permite consultar las probabilidades para cada etiqueta así:"
      ]
    },
    {
      "cell_type": "code",
      "metadata": {
        "colab": {
          "base_uri": "https://localhost:8080/"
        },
        "id": "TAcDw8y8Lse0",
        "outputId": "d361527a-b5d6-43d6-fd18-0a465d9db231"
      },
      "source": [
        "y_prob = clf.predict_proba(X)\n",
        "df = pd.DataFrame(X, columns=['Big Ears', 'Big Teeth', 'Handsome', 'Wrinkled'])\n",
        "print(df.join(pd.DataFrame(y_prob, columns=['Scream', 'Hug', 'Food', 'Kiss'])))"
      ],
      "execution_count": null,
      "outputs": [
        {
          "output_type": "stream",
          "name": "stdout",
          "text": [
            "   Big Ears  Big Teeth  Handsome  Wrinkled    Scream       Hug      Food  \\\n",
            "0         1          1         0         0  0.966333  0.006157  0.034453   \n",
            "1         0          1         1         0  0.027335  0.121834  0.969976   \n",
            "2         0          0         0         1  0.005170  0.899613  0.996505   \n",
            "\n",
            "       Kiss  \n",
            "0  0.048857  \n",
            "1  0.896725  \n",
            "2  0.056885  \n"
          ]
        }
      ]
    },
    {
      "cell_type": "code",
      "source": [
        "#Se hacen diferentes pruebas al modelo\n",
        "X2=np.array([[1,1,1,1], [0,0,0,0], [1,0,0,1], [1,1,1,0]])\n",
        "y_prob = clf.predict_proba(X2)\n",
        "df2 = pd.DataFrame(X2, columns=['Big Ears', 'Big Teeth', 'Handsome', 'Wrinkled'])\n",
        "print(df2.join(pd.DataFrame(y_prob, columns=['Scream', 'Hug', 'Food', 'Kiss'])))"
      ],
      "metadata": {
        "colab": {
          "base_uri": "https://localhost:8080/"
        },
        "id": "lUzFfXXONJJV",
        "outputId": "dc059c89-d475-4554-e933-e46a0c0eb1e0"
      },
      "execution_count": 35,
      "outputs": [
        {
          "output_type": "stream",
          "name": "stdout",
          "text": [
            "   Big Ears  Big Teeth  Handsome  Wrinkled    Scream       Hug      Food  \\\n",
            "0         1          1         1         1  0.046029  0.103816  0.950651   \n",
            "1         0          0         0         0  0.022039  0.719102  0.984129   \n",
            "2         1          0         0         1  0.071021  0.633614  0.951208   \n",
            "3         1          1         1         0  0.488407  0.025214  0.497138   \n",
            "\n",
            "       Kiss  \n",
            "0  0.810273  \n",
            "1  0.043955  \n",
            "2  0.006029  \n",
            "3  0.514302  \n"
          ]
        }
      ]
    },
    {
      "cell_type": "code",
      "source": [
        "#hacemos otro clasificador\n",
        "clf2 = MLPClassifier(solver='adam', alpha=1e-5, activation='logistic', max_iter=50,\n",
        "                    hidden_layer_sizes=(9), random_state=1)\n",
        "clf2.fit(X, y)\n",
        "y_prob = clf2.predict_proba(X)\n",
        "df3 = pd.DataFrame(X, columns=['Big Ears', 'Big Teeth', 'Handsome', 'Wrinkled'])\n",
        "print(df3.join(pd.DataFrame(y_prob, columns=['Scream', 'Hug', 'Food', 'Kiss'])))"
      ],
      "metadata": {
        "colab": {
          "base_uri": "https://localhost:8080/"
        },
        "id": "W-NgchHnPRZU",
        "outputId": "c1837e6a-7352-44f6-bc1c-4b51a1edab81"
      },
      "execution_count": 39,
      "outputs": [
        {
          "output_type": "stream",
          "name": "stdout",
          "text": [
            "   Big Ears  Big Teeth  Handsome  Wrinkled    Scream       Hug      Food  \\\n",
            "0         1          1         0         0  0.390397  0.549697  0.466317   \n",
            "1         0          1         1         0  0.387212  0.561306  0.449144   \n",
            "2         0          0         0         1  0.389458  0.563185  0.456358   \n",
            "\n",
            "       Kiss  \n",
            "0  0.351364  \n",
            "1  0.357823  \n",
            "2  0.376583  \n"
          ]
        },
        {
          "output_type": "stream",
          "name": "stderr",
          "text": [
            "/usr/local/lib/python3.10/dist-packages/sklearn/neural_network/_multilayer_perceptron.py:686: ConvergenceWarning: Stochastic Optimizer: Maximum iterations (50) reached and the optimization hasn't converged yet.\n",
            "  warnings.warn(\n"
          ]
        }
      ]
    },
    {
      "cell_type": "markdown",
      "metadata": {
        "id": "EEw2UQmyLz6c"
      },
      "source": [
        "Al momento de hacer las predicciones, `MLPClassifier` toma aquellas probabilidades mayores a $0.5$ y les asigna la etiqueta $1$, mientras que aquellos valores menores a $0.5$ le son asignados la etiqueta $0$."
      ]
    },
    {
      "cell_type": "code",
      "metadata": {
        "colab": {
          "base_uri": "https://localhost:8080/"
        },
        "id": "aje06-VfLwlU",
        "outputId": "5fb1e39b-4fe4-4f71-ed4d-4721883fd0a3"
      },
      "source": [
        "y_pred = clf.predict(X)\n",
        "df = pd.DataFrame(X, columns=['Big Ears', 'Big Teeth', 'Handsome', 'Wrinkled'])\n",
        "print(df.join(pd.DataFrame(y_pred, columns=['Scream', 'Hug', 'Food', 'Kiss'])))"
      ],
      "execution_count": 29,
      "outputs": [
        {
          "output_type": "stream",
          "name": "stdout",
          "text": [
            "   Big Ears  Big Teeth  Handsome  Wrinkled  Scream  Hug  Food  Kiss\n",
            "0         1          1         0         0       1    0     0     0\n",
            "1         0          1         1         0       0    0     1     1\n",
            "2         0          0         0         1       0    1     1     0\n"
          ]
        }
      ]
    },
    {
      "cell_type": "markdown",
      "metadata": {
        "id": "3vj6KNW6L5Un"
      },
      "source": [
        "Verificamos el accuracy en el conjunto de datos:"
      ]
    },
    {
      "cell_type": "code",
      "metadata": {
        "colab": {
          "base_uri": "https://localhost:8080/"
        },
        "id": "tV1NJV1PLzE6",
        "outputId": "8d0658e8-2989-40af-fd09-65b5573f0f78"
      },
      "source": [
        "clf.score(X, y)"
      ],
      "execution_count": 37,
      "outputs": [
        {
          "output_type": "execute_result",
          "data": {
            "text/plain": [
              "1.0"
            ]
          },
          "metadata": {},
          "execution_count": 37
        }
      ]
    },
    {
      "cell_type": "markdown",
      "metadata": {
        "id": "iA44_XHgL9KO"
      },
      "source": [
        "Visualizamos la curva de pérdida a lo largo de cada ejemplo proporcionado al modelo."
      ]
    },
    {
      "cell_type": "code",
      "metadata": {
        "colab": {
          "base_uri": "https://localhost:8080/",
          "height": 472
        },
        "id": "Cxr_QTiXL7Ng",
        "outputId": "b41ffeeb-489e-48c3-bd7b-8488d418eec1"
      },
      "source": [
        "plt.plot(clf.loss_curve_,'--r')\n",
        "plt.ylabel('Mean Square Error')\n",
        "plt.xlabel('Epochs')\n",
        "plt.title('Comportamiento de la función de costo')\n",
        "plt.grid()\n",
        "plt.show()"
      ],
      "execution_count": 41,
      "outputs": [
        {
          "output_type": "display_data",
          "data": {
            "text/plain": [
              "<Figure size 640x480 with 1 Axes>"
            ],
            "image/png": "[encoded data removed]"
          },
          "metadata": {}
        }
      ]
    },
    {
      "cell_type": "markdown",
      "source": [
        "**Creditos: Porf. Fabio Gonzalez UNAL**"
      ],
      "metadata": {
        "id": "Ze5lNTwNKWav"
      }
    }
  ]
}